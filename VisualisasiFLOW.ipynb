{
  "nbformat": 4,
  "nbformat_minor": 0,
  "metadata": {
    "colab": {
      "provenance": [],
      "authorship_tag": "ABX9TyMOStjpGzbae/SXmUPU19xo",
      "include_colab_link": true
    },
    "kernelspec": {
      "name": "python3",
      "display_name": "Python 3"
    },
    "language_info": {
      "name": "python"
    }
  },
  "cells": [
    {
      "cell_type": "markdown",
      "metadata": {
        "id": "view-in-github",
        "colab_type": "text"
      },
      "source": [
        "<a href=\"https://colab.research.google.com/github/Codift05/ColabArchive/blob/main/VisualisasiFLOW.ipynb\" target=\"_parent\"><img src=\"https://colab.research.google.com/assets/colab-badge.svg\" alt=\"Open In Colab\"/></a>"
      ]
    },
    {
      "cell_type": "code",
      "execution_count": 1,
      "metadata": {
        "colab": {
          "base_uri": "https://localhost:8080/",
          "height": 36
        },
        "id": "0I5uGkwI8Amf",
        "outputId": "8ed99305-a024-4720-9ae6-a57a12e72348"
      },
      "outputs": [
        {
          "output_type": "execute_result",
          "data": {
            "text/plain": [
              "'/mnt/data/bubblesort_flowchart_detail.png'"
            ],
            "application/vnd.google.colaboratory.intrinsic+json": {
              "type": "string"
            }
          },
          "metadata": {},
          "execution_count": 1
        }
      ],
      "source": [
        "from graphviz import Digraph\n",
        "\n",
        "# Buat diagram flowchart versi detail\n",
        "dot = Digraph(\"BubbleSortFlowchartDetail\", format=\"png\")\n",
        "dot.attr(rankdir=\"TB\", size=\"8\")\n",
        "\n",
        "# Node\n",
        "dot.node(\"start\", \"Start\", shape=\"oval\")\n",
        "dot.node(\"input\", \"Input array A, tentukan n\", shape=\"parallelogram\")\n",
        "dot.node(\"i_init\", \"i = 0\", shape=\"rectangle\")\n",
        "dot.node(\"i_check\", \"i < n-1 ?\", shape=\"diamond\")\n",
        "dot.node(\"j_init\", \"j = 0\", shape=\"rectangle\")\n",
        "dot.node(\"j_check\", \"j < n-i-1 ?\", shape=\"diamond\")\n",
        "dot.node(\"condition\", \"A[j] > A[j+1] ?\", shape=\"diamond\")\n",
        "dot.node(\"swap\", \"Tukar elemen A[j] ↔ A[j+1]\", shape=\"rectangle\")\n",
        "dot.node(\"j_inc\", \"j = j + 1\", shape=\"rectangle\")\n",
        "dot.node(\"i_inc\", \"i = i + 1\", shape=\"rectangle\")\n",
        "dot.node(\"output\", \"Output array hasil sorting\", shape=\"parallelogram\")\n",
        "dot.node(\"end\", \"End\", shape=\"oval\")\n",
        "\n",
        "# Edges\n",
        "dot.edge(\"start\", \"input\")\n",
        "dot.edge(\"input\", \"i_init\")\n",
        "dot.edge(\"i_init\", \"i_check\")\n",
        "dot.edge(\"i_check\", \"j_init\", label=\"Yes\")\n",
        "dot.edge(\"i_check\", \"output\", label=\"No\")\n",
        "dot.edge(\"j_init\", \"j_check\")\n",
        "dot.edge(\"j_check\", \"condition\", label=\"Yes\")\n",
        "dot.edge(\"j_check\", \"i_inc\", label=\"No\")\n",
        "dot.edge(\"condition\", \"swap\", label=\"Yes\")\n",
        "dot.edge(\"condition\", \"j_inc\", label=\"No\")\n",
        "dot.edge(\"swap\", \"j_inc\")\n",
        "dot.edge(\"j_inc\", \"j_check\")\n",
        "dot.edge(\"i_inc\", \"i_check\")\n",
        "dot.edge(\"output\", \"end\")\n",
        "\n",
        "# Save and render\n",
        "flowchart_detail_path = \"/mnt/data/bubblesort_flowchart_detail\"\n",
        "dot.render(flowchart_detail_path, cleanup=True)\n",
        "\n",
        "flowchart_detail_path + \".png\"\n"
      ]
    }
  ]
}