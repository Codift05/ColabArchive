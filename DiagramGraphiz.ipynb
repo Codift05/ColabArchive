{
  "nbformat": 4,
  "nbformat_minor": 0,
  "metadata": {
    "colab": {
      "provenance": [],
      "authorship_tag": "ABX9TyM4iYnyfANeNJYg4nQjvLPZ",
      "include_colab_link": true
    },
    "kernelspec": {
      "name": "python3",
      "display_name": "Python 3"
    },
    "language_info": {
      "name": "python"
    }
  },
  "cells": [
    {
      "cell_type": "markdown",
      "metadata": {
        "id": "view-in-github",
        "colab_type": "text"
      },
      "source": [
        "<a href=\"https://colab.research.google.com/github/Codift05/ColabArchive/blob/main/DiagramGraphiz.ipynb\" target=\"_parent\"><img src=\"https://colab.research.google.com/assets/colab-badge.svg\" alt=\"Open In Colab\"/></a>"
      ]
    },
    {
      "cell_type": "code",
      "execution_count": 1,
      "metadata": {
        "colab": {
          "base_uri": "https://localhost:8080/",
          "height": 177
        },
        "id": "PkUrRY9UHX5E",
        "outputId": "7c48412c-5d2b-41b7-dc2d-f481c35322cb"
      },
      "outputs": [
        {
          "output_type": "stream",
          "name": "stdout",
          "text": [
            "Reading package lists... Done\n",
            "Building dependency tree... Done\n",
            "Reading state information... Done\n",
            "graphviz is already the newest version (2.42.2-6ubuntu0.1).\n",
            "0 upgraded, 0 newly installed, 0 to remove and 35 not upgraded.\n",
            "Requirement already satisfied: graphviz in /usr/local/lib/python3.12/dist-packages (0.21)\n"
          ]
        },
        {
          "output_type": "stream",
          "name": "stderr",
          "text": [
            "Warning: using box for unknown shape actor\n"
          ]
        },
        {
          "output_type": "execute_result",
          "data": {
            "text/plain": [
              "'usecase_mahkota.png'"
            ],
            "application/vnd.google.colaboratory.intrinsic+json": {
              "type": "string"
            }
          },
          "metadata": {},
          "execution_count": 1
        }
      ],
      "source": [
        "!apt-get install graphviz\n",
        "!pip install graphviz\n",
        "\n",
        "from graphviz import Digraph\n",
        "\n",
        "dot = Digraph(comment='Use Case Diagram - MAHKOTA')\n",
        "\n",
        "# Aktor\n",
        "dot.node('A', 'Admin', shape='actor')\n",
        "dot.node('U', 'Anggota', shape='actor')\n",
        "dot.node('P', 'Pengunjung', shape='actor')\n",
        "\n",
        "# Use case\n",
        "dot.node('UC1', 'Login/Logout', shape='ellipse')\n",
        "dot.node('UC2', 'Kelola Artikel', shape='ellipse')\n",
        "dot.node('UC3', 'Kelola Galeri', shape='ellipse')\n",
        "dot.node('UC4', 'Kelola Mitra', shape='ellipse')\n",
        "dot.node('UC5', 'Kelola Event', shape='ellipse')\n",
        "dot.node('UC6', 'Registrasi', shape='ellipse')\n",
        "dot.node('UC7', 'Membaca Artikel', shape='ellipse')\n",
        "dot.node('UC8', 'Melihat Event', shape='ellipse')\n",
        "dot.node('UC9', 'Melihat Galeri', shape='ellipse')\n",
        "dot.node('UC10', 'Melihat Home/Profil/Visi Misi', shape='ellipse')\n",
        "dot.node('UC11', 'Kontak Kami', shape='ellipse')\n",
        "\n",
        "# Relasi\n",
        "dot.edges([('A', 'UC1'), ('A', 'UC2'), ('A', 'UC3'), ('A', 'UC4'), ('A', 'UC5')])\n",
        "dot.edges([('U', 'UC1'), ('U', 'UC6'), ('U', 'UC7'), ('U', 'UC8'), ('U', 'UC9')])\n",
        "dot.edges([('P', 'UC7'), ('P', 'UC8'), ('P', 'UC9'), ('P', 'UC10'), ('P', 'UC11')])\n",
        "\n",
        "# Render\n",
        "dot.render('usecase_mahkota', format='png', view=True)\n"
      ]
    },
    {
      "cell_type": "code",
      "source": [
        "from graphviz import Digraph\n",
        "\n",
        "seq = Digraph('sequence', format='png')\n",
        "seq.attr(rankdir='LR')\n",
        "\n",
        "# Entities\n",
        "seq.node('U', 'User', shape='box')\n",
        "seq.node('W', 'Website UI', shape='box')\n",
        "seq.node('C', 'Controller', shape='box')\n",
        "seq.node('D', 'Database', shape='cylinder')\n",
        "\n",
        "# Interactions\n",
        "seq.edge('U', 'W', 'Klik menu Artikel')\n",
        "seq.edge('W', 'C', 'Request data artikel')\n",
        "seq.edge('C', 'D', 'Query artikel')\n",
        "seq.edge('D', 'C', 'Return data')\n",
        "seq.edge('C', 'W', 'Kirim data artikel')\n",
        "seq.edge('W', 'U', 'Tampilkan artikel')\n",
        "\n",
        "seq.render('sequence_mahkota', view=True)\n"
      ],
      "metadata": {
        "colab": {
          "base_uri": "https://localhost:8080/",
          "height": 36
        },
        "id": "xQm8CIc_HuN1",
        "outputId": "80fa7a3b-9463-4594-813a-3aad2f36ad41"
      },
      "execution_count": 2,
      "outputs": [
        {
          "output_type": "execute_result",
          "data": {
            "text/plain": [
              "'sequence_mahkota.png'"
            ],
            "application/vnd.google.colaboratory.intrinsic+json": {
              "type": "string"
            }
          },
          "metadata": {},
          "execution_count": 2
        }
      ]
    },
    {
      "cell_type": "code",
      "source": [
        "from graphviz import Digraph\n",
        "\n",
        "erd = Digraph('ERD', format='png')\n",
        "erd.attr(rankdir='LR')\n",
        "\n",
        "# Entities\n",
        "erd.node('User', '''User|\n",
        "- user_id : int\n",
        "- nama : string\n",
        "- email : string\n",
        "- password : string\n",
        "- role : enum''', shape='record')\n",
        "\n",
        "erd.node('Artikel', '''Artikel|\n",
        "- artikel_id : int\n",
        "- judul : string\n",
        "- isi : text\n",
        "- kategori : string\n",
        "- tanggal : date''', shape='record')\n",
        "\n",
        "erd.node('Galeri', '''Galeri|\n",
        "- galeri_id : int\n",
        "- foto : string\n",
        "- kategori : string\n",
        "- tanggal : date''', shape='record')\n",
        "\n",
        "erd.node('Event', '''Event|\n",
        "- event_id : int\n",
        "- judul : string\n",
        "- deskripsi : text\n",
        "- tanggal : date''', shape='record')\n",
        "\n",
        "erd.node('Mitra', '''Mitra|\n",
        "- mitra_id : int\n",
        "- nama : string\n",
        "- logo : string\n",
        "- deskripsi : string''', shape='record')\n",
        "\n",
        "# Relationships\n",
        "erd.edge('User', 'Artikel', label='1 - many')\n",
        "erd.edge('User', 'Galeri', label='1 - many')\n",
        "erd.edge('User', 'Event', label='1 - many')\n",
        "\n",
        "erd.render('erd_mahkota', view=True)\n"
      ],
      "metadata": {
        "colab": {
          "base_uri": "https://localhost:8080/",
          "height": 36
        },
        "id": "9aBZWz2qICG4",
        "outputId": "dc78deff-65a2-4522-d34c-4f7193368726"
      },
      "execution_count": 3,
      "outputs": [
        {
          "output_type": "execute_result",
          "data": {
            "text/plain": [
              "'erd_mahkota.png'"
            ],
            "application/vnd.google.colaboratory.intrinsic+json": {
              "type": "string"
            }
          },
          "metadata": {},
          "execution_count": 3
        }
      ]
    },
    {
      "cell_type": "code",
      "source": [
        "from graphviz import Digraph\n",
        "\n",
        "act_all = Digraph('activity_all', format='png')\n",
        "act_all.attr(rankdir='TB')\n",
        "\n",
        "# Start & End\n",
        "act_all.node('start', 'Start', shape='circle', style='filled', fillcolor='green')\n",
        "act_all.node('end', 'End', shape='doublecircle', style='filled', fillcolor='red')\n",
        "\n",
        "# Roles\n",
        "act_all.node('admin', 'Admin', shape='box')\n",
        "act_all.node('anggota', 'Anggota', shape='box')\n",
        "act_all.node('pengunjung', 'Pengunjung', shape='box')\n",
        "\n",
        "# Admin Activities\n",
        "act_all.node('login_admin', 'Login Admin', shape='box')\n",
        "act_all.node('dashboard', 'Akses Dashboard', shape='box')\n",
        "act_all.node('artikel', 'Kelola Artikel (CRUD)', shape='box')\n",
        "act_all.node('galeri', 'Kelola Galeri (CRUD)', shape='box')\n",
        "act_all.node('event', 'Kelola Event (CRUD)', shape='box')\n",
        "act_all.node('mitra', 'Kelola Mitra (CRUD)', shape='box')\n",
        "act_all.node('save', 'Simpan Perubahan', shape='box')\n",
        "act_all.node('update', 'Update Database', shape='box')\n",
        "\n",
        "# Anggota Activities\n",
        "act_all.node('reg', 'Registrasi / Login User', shape='box')\n",
        "act_all.node('akses_user', 'Akses Artikel, Event, Galeri, Info', shape='box')\n",
        "\n",
        "# Pengunjung Activities\n",
        "act_all.node('akses_pub', 'Akses Halaman Publik (Home, Profil, Visi Misi, Artikel Publik, Event, Galeri, Mitra, Kontak)', shape='box')\n",
        "\n",
        "# Flow\n",
        "act_all.edge('start', 'admin', label='Pilih role')\n",
        "act_all.edge('start', 'anggota')\n",
        "act_all.edge('start', 'pengunjung')\n",
        "\n",
        "# Admin flow\n",
        "act_all.edge('admin', 'login_admin')\n",
        "act_all.edge('login_admin', 'dashboard')\n",
        "act_all.edge('dashboard', 'artikel')\n",
        "act_all.edge('dashboard', 'galeri')\n",
        "act_all.edge('dashboard', 'event')\n",
        "act_all.edge('dashboard', 'mitra')\n",
        "act_all.edge('artikel', 'save')\n",
        "act_all.edge('galeri', 'save')\n",
        "act_all.edge('event', 'save')\n",
        "act_all.edge('mitra', 'save')\n",
        "act_all.edge('save', 'update')\n",
        "act_all.edge('update', 'end')\n",
        "\n",
        "# Anggota flow\n",
        "act_all.edge('anggota', 'reg')\n",
        "act_all.edge('reg', 'akses_user')\n",
        "act_all.edge('akses_user', 'end')\n",
        "\n",
        "# Pengunjung flow\n",
        "act_all.edge('pengunjung', 'akses_pub')\n",
        "act_all.edge('akses_pub', 'end')\n",
        "\n",
        "# Render\n",
        "act_all.render('activity_all_mahkota', view=True)\n"
      ],
      "metadata": {
        "colab": {
          "base_uri": "https://localhost:8080/",
          "height": 36
        },
        "id": "4lnSnTiGIrfP",
        "outputId": "426d692d-0182-4cf5-d773-c965778a9cea"
      },
      "execution_count": 4,
      "outputs": [
        {
          "output_type": "execute_result",
          "data": {
            "text/plain": [
              "'activity_all_mahkota.png'"
            ],
            "application/vnd.google.colaboratory.intrinsic+json": {
              "type": "string"
            }
          },
          "metadata": {},
          "execution_count": 4
        }
      ]
    }
  ]
}